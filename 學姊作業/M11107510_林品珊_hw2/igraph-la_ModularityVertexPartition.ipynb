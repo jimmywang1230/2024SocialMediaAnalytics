{
 "cells": [
  {
   "cell_type": "code",
   "execution_count": 1,
   "id": "95e78211",
   "metadata": {},
   "outputs": [],
   "source": [
    "import pandas as pd\n",
    "import matplotlib.pyplot as plt\n",
    "import networkx as nx\n",
    "import igraph as ig\n",
    "import leidenalg\n",
    "import leidenalg as la"
   ]
  },
  {
   "cell_type": "code",
   "execution_count": 2,
   "id": "daa98c77",
   "metadata": {},
   "outputs": [
    {
     "name": "stdout",
     "output_type": "stream",
     "text": [
      "    Node1   Node2\n",
      "0  774578  681207\n",
      "1  819314  715063\n",
      "2  772387  715740\n",
      "3   37717   37716\n",
      "4   19150  731191\n"
     ]
    }
   ],
   "source": [
    "train_df = pd.read_csv('2023-ntust-practice-of-social-media-analytics-hw2/train.csv')\n",
    "print(train_df.head(5))"
   ]
  },
  {
   "cell_type": "code",
   "execution_count": 3,
   "id": "801e8486",
   "metadata": {},
   "outputs": [],
   "source": [
    "graph_train = ig.Graph.DataFrame(train_df)"
   ]
  },
  {
   "cell_type": "code",
   "execution_count": 4,
   "id": "eef2750b",
   "metadata": {},
   "outputs": [
    {
     "data": {
      "text/plain": [
       "<igraph.Graph at 0x1df67207950>"
      ]
     },
     "execution_count": 4,
     "metadata": {},
     "output_type": "execute_result"
    }
   ],
   "source": [
    "graph_train"
   ]
  },
  {
   "cell_type": "code",
   "execution_count": 5,
   "id": "42fa7d64",
   "metadata": {},
   "outputs": [
    {
     "data": {
      "text/plain": [
       "<leidenalg.VertexPartition.ModularityVertexPartition at 0x1df72044d50>"
      ]
     },
     "execution_count": 5,
     "metadata": {},
     "output_type": "execute_result"
    }
   ],
   "source": [
    "part = leidenalg.find_partition(graph_train, leidenalg.ModularityVertexPartition)\n",
    "part"
   ]
  },
  {
   "cell_type": "code",
   "execution_count": 6,
   "id": "cea3a2c9",
   "metadata": {},
   "outputs": [
    {
     "data": {
      "text/plain": [
       "583149"
      ]
     },
     "execution_count": 6,
     "metadata": {},
     "output_type": "execute_result"
    }
   ],
   "source": [
    "len(part)"
   ]
  },
  {
   "cell_type": "code",
   "execution_count": 7,
   "id": "4ea9aa83",
   "metadata": {},
   "outputs": [
    {
     "data": {
      "text/html": [
       "<div>\n",
       "<style scoped>\n",
       "    .dataframe tbody tr th:only-of-type {\n",
       "        vertical-align: middle;\n",
       "    }\n",
       "\n",
       "    .dataframe tbody tr th {\n",
       "        vertical-align: top;\n",
       "    }\n",
       "\n",
       "    .dataframe thead th {\n",
       "        text-align: right;\n",
       "    }\n",
       "</style>\n",
       "<table border=\"1\" class=\"dataframe\">\n",
       "  <thead>\n",
       "    <tr style=\"text-align: right;\">\n",
       "      <th></th>\n",
       "      <th>Id</th>\n",
       "      <th>Node1</th>\n",
       "      <th>Node2</th>\n",
       "    </tr>\n",
       "  </thead>\n",
       "  <tbody>\n",
       "    <tr>\n",
       "      <th>0</th>\n",
       "      <td>0</td>\n",
       "      <td>740132</td>\n",
       "      <td>60654</td>\n",
       "    </tr>\n",
       "    <tr>\n",
       "      <th>1</th>\n",
       "      <td>1</td>\n",
       "      <td>754586</td>\n",
       "      <td>858562</td>\n",
       "    </tr>\n",
       "    <tr>\n",
       "      <th>2</th>\n",
       "      <td>2</td>\n",
       "      <td>814985</td>\n",
       "      <td>828532</td>\n",
       "    </tr>\n",
       "    <tr>\n",
       "      <th>3</th>\n",
       "      <td>3</td>\n",
       "      <td>56589</td>\n",
       "      <td>764977</td>\n",
       "    </tr>\n",
       "    <tr>\n",
       "      <th>4</th>\n",
       "      <td>4</td>\n",
       "      <td>40719</td>\n",
       "      <td>637568</td>\n",
       "    </tr>\n",
       "    <tr>\n",
       "      <th>...</th>\n",
       "      <td>...</td>\n",
       "      <td>...</td>\n",
       "      <td>...</td>\n",
       "    </tr>\n",
       "    <tr>\n",
       "      <th>995</th>\n",
       "      <td>995</td>\n",
       "      <td>884684</td>\n",
       "      <td>870863</td>\n",
       "    </tr>\n",
       "    <tr>\n",
       "      <th>996</th>\n",
       "      <td>996</td>\n",
       "      <td>856518</td>\n",
       "      <td>868450</td>\n",
       "    </tr>\n",
       "    <tr>\n",
       "      <th>997</th>\n",
       "      <td>997</td>\n",
       "      <td>653654</td>\n",
       "      <td>762732</td>\n",
       "    </tr>\n",
       "    <tr>\n",
       "      <th>998</th>\n",
       "      <td>998</td>\n",
       "      <td>676859</td>\n",
       "      <td>829537</td>\n",
       "    </tr>\n",
       "    <tr>\n",
       "      <th>999</th>\n",
       "      <td>999</td>\n",
       "      <td>753811</td>\n",
       "      <td>878163</td>\n",
       "    </tr>\n",
       "  </tbody>\n",
       "</table>\n",
       "<p>1000 rows × 3 columns</p>\n",
       "</div>"
      ],
      "text/plain": [
       "      Id   Node1   Node2\n",
       "0      0  740132   60654\n",
       "1      1  754586  858562\n",
       "2      2  814985  828532\n",
       "3      3   56589  764977\n",
       "4      4   40719  637568\n",
       "..   ...     ...     ...\n",
       "995  995  884684  870863\n",
       "996  996  856518  868450\n",
       "997  997  653654  762732\n",
       "998  998  676859  829537\n",
       "999  999  753811  878163\n",
       "\n",
       "[1000 rows x 3 columns]"
      ]
     },
     "execution_count": 7,
     "metadata": {},
     "output_type": "execute_result"
    }
   ],
   "source": [
    "test_df = pd.read_csv('2023-ntust-practice-of-social-media-analytics-hw2/test.csv')\n",
    "test_df"
   ]
  },
  {
   "cell_type": "code",
   "execution_count": 8,
   "id": "2731c43e",
   "metadata": {},
   "outputs": [],
   "source": [
    "partitions = la.find_partition(graph_train, la.ModularityVertexPartition)\n",
    "#partitions[0]"
   ]
  },
  {
   "cell_type": "code",
   "execution_count": 9,
   "id": "7c7d0719",
   "metadata": {},
   "outputs": [
    {
     "data": {
      "text/plain": [
       "583160"
      ]
     },
     "execution_count": 9,
     "metadata": {},
     "output_type": "execute_result"
    }
   ],
   "source": [
    "len(partitions)"
   ]
  },
  {
   "cell_type": "code",
   "execution_count": 40,
   "id": "2dbc300d",
   "metadata": {},
   "outputs": [],
   "source": [
    "def find_cluster(node_id):\n",
    "    for i in range(0, 583169):\n",
    "        if node_id in partitions[i]:\n",
    "            #print(partitions[i])\n",
    "            return i\n",
    "        \n",
    "\n",
    "# node_cluster = find_cluster(829537)\n",
    "# node_cluster"
   ]
  },
  {
   "cell_type": "code",
   "execution_count": 41,
   "id": "9e46de03",
   "metadata": {},
   "outputs": [],
   "source": [
    "#test_df[\"node1_cluster\"] = test_df.apply(lambda x:find_cluster(test_df['Node1']), axis = 1)\n",
    "test_df[\"node1_cluster\"] = test_df.apply(lambda x: find_cluster(x['Node1']), axis = 1)\n",
    "#test_df"
   ]
  },
  {
   "cell_type": "code",
   "execution_count": 42,
   "id": "03bd72e5",
   "metadata": {},
   "outputs": [],
   "source": [
    "test_df[\"node2_cluster\"] = test_df.apply(lambda x: find_cluster(x['Node2']), axis = 1)"
   ]
  },
  {
   "cell_type": "code",
   "execution_count": 43,
   "id": "3f006fcd",
   "metadata": {},
   "outputs": [
    {
     "data": {
      "text/html": [
       "<div>\n",
       "<style scoped>\n",
       "    .dataframe tbody tr th:only-of-type {\n",
       "        vertical-align: middle;\n",
       "    }\n",
       "\n",
       "    .dataframe tbody tr th {\n",
       "        vertical-align: top;\n",
       "    }\n",
       "\n",
       "    .dataframe thead th {\n",
       "        text-align: right;\n",
       "    }\n",
       "</style>\n",
       "<table border=\"1\" class=\"dataframe\">\n",
       "  <thead>\n",
       "    <tr style=\"text-align: right;\">\n",
       "      <th></th>\n",
       "      <th>Id</th>\n",
       "      <th>Node1</th>\n",
       "      <th>Node2</th>\n",
       "      <th>node1_cluster</th>\n",
       "      <th>node2_cluster</th>\n",
       "    </tr>\n",
       "  </thead>\n",
       "  <tbody>\n",
       "    <tr>\n",
       "      <th>0</th>\n",
       "      <td>0</td>\n",
       "      <td>740132</td>\n",
       "      <td>60654</td>\n",
       "      <td>44</td>\n",
       "      <td>18</td>\n",
       "    </tr>\n",
       "    <tr>\n",
       "      <th>1</th>\n",
       "      <td>1</td>\n",
       "      <td>754586</td>\n",
       "      <td>858562</td>\n",
       "      <td>15</td>\n",
       "      <td>9</td>\n",
       "    </tr>\n",
       "    <tr>\n",
       "      <th>2</th>\n",
       "      <td>2</td>\n",
       "      <td>814985</td>\n",
       "      <td>828532</td>\n",
       "      <td>65</td>\n",
       "      <td>22</td>\n",
       "    </tr>\n",
       "    <tr>\n",
       "      <th>3</th>\n",
       "      <td>3</td>\n",
       "      <td>56589</td>\n",
       "      <td>764977</td>\n",
       "      <td>0</td>\n",
       "      <td>6</td>\n",
       "    </tr>\n",
       "    <tr>\n",
       "      <th>4</th>\n",
       "      <td>4</td>\n",
       "      <td>40719</td>\n",
       "      <td>637568</td>\n",
       "      <td>22</td>\n",
       "      <td>64</td>\n",
       "    </tr>\n",
       "    <tr>\n",
       "      <th>...</th>\n",
       "      <td>...</td>\n",
       "      <td>...</td>\n",
       "      <td>...</td>\n",
       "      <td>...</td>\n",
       "      <td>...</td>\n",
       "    </tr>\n",
       "    <tr>\n",
       "      <th>995</th>\n",
       "      <td>995</td>\n",
       "      <td>884684</td>\n",
       "      <td>870863</td>\n",
       "      <td>23</td>\n",
       "      <td>12</td>\n",
       "    </tr>\n",
       "    <tr>\n",
       "      <th>996</th>\n",
       "      <td>996</td>\n",
       "      <td>856518</td>\n",
       "      <td>868450</td>\n",
       "      <td>1</td>\n",
       "      <td>18</td>\n",
       "    </tr>\n",
       "    <tr>\n",
       "      <th>997</th>\n",
       "      <td>997</td>\n",
       "      <td>653654</td>\n",
       "      <td>762732</td>\n",
       "      <td>99</td>\n",
       "      <td>32</td>\n",
       "    </tr>\n",
       "    <tr>\n",
       "      <th>998</th>\n",
       "      <td>998</td>\n",
       "      <td>676859</td>\n",
       "      <td>829537</td>\n",
       "      <td>6</td>\n",
       "      <td>6</td>\n",
       "    </tr>\n",
       "    <tr>\n",
       "      <th>999</th>\n",
       "      <td>999</td>\n",
       "      <td>753811</td>\n",
       "      <td>878163</td>\n",
       "      <td>65</td>\n",
       "      <td>65</td>\n",
       "    </tr>\n",
       "  </tbody>\n",
       "</table>\n",
       "<p>1000 rows × 5 columns</p>\n",
       "</div>"
      ],
      "text/plain": [
       "      Id   Node1   Node2  node1_cluster  node2_cluster\n",
       "0      0  740132   60654             44             18\n",
       "1      1  754586  858562             15              9\n",
       "2      2  814985  828532             65             22\n",
       "3      3   56589  764977              0              6\n",
       "4      4   40719  637568             22             64\n",
       "..   ...     ...     ...            ...            ...\n",
       "995  995  884684  870863             23             12\n",
       "996  996  856518  868450              1             18\n",
       "997  997  653654  762732             99             32\n",
       "998  998  676859  829537              6              6\n",
       "999  999  753811  878163             65             65\n",
       "\n",
       "[1000 rows x 5 columns]"
      ]
     },
     "execution_count": 43,
     "metadata": {},
     "output_type": "execute_result"
    }
   ],
   "source": [
    "test_df"
   ]
  },
  {
   "cell_type": "code",
   "execution_count": 52,
   "id": "45443cd3",
   "metadata": {},
   "outputs": [],
   "source": [
    "def cluster_same(node_id1, node_id2):\n",
    "    if node_id1 == node_id2:\n",
    "        return 1\n",
    "    else:\n",
    "        return 0"
   ]
  },
  {
   "cell_type": "code",
   "execution_count": 53,
   "id": "66f7e434",
   "metadata": {},
   "outputs": [],
   "source": [
    "test_df['Category'] = test_df.apply(lambda x: cluster_same(x['node1_cluster'],x['node2_cluster']), axis=1)"
   ]
  },
  {
   "cell_type": "code",
   "execution_count": 54,
   "id": "0c87a0b9",
   "metadata": {},
   "outputs": [
    {
     "data": {
      "text/html": [
       "<div>\n",
       "<style scoped>\n",
       "    .dataframe tbody tr th:only-of-type {\n",
       "        vertical-align: middle;\n",
       "    }\n",
       "\n",
       "    .dataframe tbody tr th {\n",
       "        vertical-align: top;\n",
       "    }\n",
       "\n",
       "    .dataframe thead th {\n",
       "        text-align: right;\n",
       "    }\n",
       "</style>\n",
       "<table border=\"1\" class=\"dataframe\">\n",
       "  <thead>\n",
       "    <tr style=\"text-align: right;\">\n",
       "      <th></th>\n",
       "      <th>Id</th>\n",
       "      <th>Node1</th>\n",
       "      <th>Node2</th>\n",
       "      <th>node1_cluster</th>\n",
       "      <th>node2_cluster</th>\n",
       "      <th>Category</th>\n",
       "    </tr>\n",
       "  </thead>\n",
       "  <tbody>\n",
       "    <tr>\n",
       "      <th>0</th>\n",
       "      <td>0</td>\n",
       "      <td>740132</td>\n",
       "      <td>60654</td>\n",
       "      <td>44</td>\n",
       "      <td>18</td>\n",
       "      <td>0</td>\n",
       "    </tr>\n",
       "    <tr>\n",
       "      <th>1</th>\n",
       "      <td>1</td>\n",
       "      <td>754586</td>\n",
       "      <td>858562</td>\n",
       "      <td>15</td>\n",
       "      <td>9</td>\n",
       "      <td>0</td>\n",
       "    </tr>\n",
       "    <tr>\n",
       "      <th>2</th>\n",
       "      <td>2</td>\n",
       "      <td>814985</td>\n",
       "      <td>828532</td>\n",
       "      <td>65</td>\n",
       "      <td>22</td>\n",
       "      <td>0</td>\n",
       "    </tr>\n",
       "    <tr>\n",
       "      <th>3</th>\n",
       "      <td>3</td>\n",
       "      <td>56589</td>\n",
       "      <td>764977</td>\n",
       "      <td>0</td>\n",
       "      <td>6</td>\n",
       "      <td>0</td>\n",
       "    </tr>\n",
       "    <tr>\n",
       "      <th>4</th>\n",
       "      <td>4</td>\n",
       "      <td>40719</td>\n",
       "      <td>637568</td>\n",
       "      <td>22</td>\n",
       "      <td>64</td>\n",
       "      <td>0</td>\n",
       "    </tr>\n",
       "    <tr>\n",
       "      <th>...</th>\n",
       "      <td>...</td>\n",
       "      <td>...</td>\n",
       "      <td>...</td>\n",
       "      <td>...</td>\n",
       "      <td>...</td>\n",
       "      <td>...</td>\n",
       "    </tr>\n",
       "    <tr>\n",
       "      <th>995</th>\n",
       "      <td>995</td>\n",
       "      <td>884684</td>\n",
       "      <td>870863</td>\n",
       "      <td>23</td>\n",
       "      <td>12</td>\n",
       "      <td>0</td>\n",
       "    </tr>\n",
       "    <tr>\n",
       "      <th>996</th>\n",
       "      <td>996</td>\n",
       "      <td>856518</td>\n",
       "      <td>868450</td>\n",
       "      <td>1</td>\n",
       "      <td>18</td>\n",
       "      <td>0</td>\n",
       "    </tr>\n",
       "    <tr>\n",
       "      <th>997</th>\n",
       "      <td>997</td>\n",
       "      <td>653654</td>\n",
       "      <td>762732</td>\n",
       "      <td>99</td>\n",
       "      <td>32</td>\n",
       "      <td>0</td>\n",
       "    </tr>\n",
       "    <tr>\n",
       "      <th>998</th>\n",
       "      <td>998</td>\n",
       "      <td>676859</td>\n",
       "      <td>829537</td>\n",
       "      <td>6</td>\n",
       "      <td>6</td>\n",
       "      <td>1</td>\n",
       "    </tr>\n",
       "    <tr>\n",
       "      <th>999</th>\n",
       "      <td>999</td>\n",
       "      <td>753811</td>\n",
       "      <td>878163</td>\n",
       "      <td>65</td>\n",
       "      <td>65</td>\n",
       "      <td>1</td>\n",
       "    </tr>\n",
       "  </tbody>\n",
       "</table>\n",
       "<p>1000 rows × 6 columns</p>\n",
       "</div>"
      ],
      "text/plain": [
       "      Id   Node1   Node2  node1_cluster  node2_cluster  Category\n",
       "0      0  740132   60654             44             18         0\n",
       "1      1  754586  858562             15              9         0\n",
       "2      2  814985  828532             65             22         0\n",
       "3      3   56589  764977              0              6         0\n",
       "4      4   40719  637568             22             64         0\n",
       "..   ...     ...     ...            ...            ...       ...\n",
       "995  995  884684  870863             23             12         0\n",
       "996  996  856518  868450              1             18         0\n",
       "997  997  653654  762732             99             32         0\n",
       "998  998  676859  829537              6              6         1\n",
       "999  999  753811  878163             65             65         1\n",
       "\n",
       "[1000 rows x 6 columns]"
      ]
     },
     "execution_count": 54,
     "metadata": {},
     "output_type": "execute_result"
    }
   ],
   "source": [
    "test_df"
   ]
  },
  {
   "cell_type": "code",
   "execution_count": 55,
   "id": "f1f7c80a",
   "metadata": {},
   "outputs": [],
   "source": [
    "category = test_df['Category'].tolist()"
   ]
  },
  {
   "cell_type": "code",
   "execution_count": 59,
   "id": "07034981",
   "metadata": {},
   "outputs": [
    {
     "data": {
      "text/html": [
       "<div>\n",
       "<style scoped>\n",
       "    .dataframe tbody tr th:only-of-type {\n",
       "        vertical-align: middle;\n",
       "    }\n",
       "\n",
       "    .dataframe tbody tr th {\n",
       "        vertical-align: top;\n",
       "    }\n",
       "\n",
       "    .dataframe thead th {\n",
       "        text-align: right;\n",
       "    }\n",
       "</style>\n",
       "<table border=\"1\" class=\"dataframe\">\n",
       "  <thead>\n",
       "    <tr style=\"text-align: right;\">\n",
       "      <th></th>\n",
       "      <th>Id</th>\n",
       "      <th>Category</th>\n",
       "    </tr>\n",
       "  </thead>\n",
       "  <tbody>\n",
       "    <tr>\n",
       "      <th>0</th>\n",
       "      <td>0</td>\n",
       "      <td>0</td>\n",
       "    </tr>\n",
       "    <tr>\n",
       "      <th>1</th>\n",
       "      <td>1</td>\n",
       "      <td>0</td>\n",
       "    </tr>\n",
       "    <tr>\n",
       "      <th>2</th>\n",
       "      <td>2</td>\n",
       "      <td>0</td>\n",
       "    </tr>\n",
       "    <tr>\n",
       "      <th>3</th>\n",
       "      <td>3</td>\n",
       "      <td>0</td>\n",
       "    </tr>\n",
       "    <tr>\n",
       "      <th>4</th>\n",
       "      <td>4</td>\n",
       "      <td>0</td>\n",
       "    </tr>\n",
       "    <tr>\n",
       "      <th>...</th>\n",
       "      <td>...</td>\n",
       "      <td>...</td>\n",
       "    </tr>\n",
       "    <tr>\n",
       "      <th>995</th>\n",
       "      <td>995</td>\n",
       "      <td>0</td>\n",
       "    </tr>\n",
       "    <tr>\n",
       "      <th>996</th>\n",
       "      <td>996</td>\n",
       "      <td>0</td>\n",
       "    </tr>\n",
       "    <tr>\n",
       "      <th>997</th>\n",
       "      <td>997</td>\n",
       "      <td>0</td>\n",
       "    </tr>\n",
       "    <tr>\n",
       "      <th>998</th>\n",
       "      <td>998</td>\n",
       "      <td>0</td>\n",
       "    </tr>\n",
       "    <tr>\n",
       "      <th>999</th>\n",
       "      <td>999</td>\n",
       "      <td>0</td>\n",
       "    </tr>\n",
       "  </tbody>\n",
       "</table>\n",
       "<p>1000 rows × 2 columns</p>\n",
       "</div>"
      ],
      "text/plain": [
       "      Id  Category\n",
       "0      0         0\n",
       "1      1         0\n",
       "2      2         0\n",
       "3      3         0\n",
       "4      4         0\n",
       "..   ...       ...\n",
       "995  995         0\n",
       "996  996         0\n",
       "997  997         0\n",
       "998  998         0\n",
       "999  999         0\n",
       "\n",
       "[1000 rows x 2 columns]"
      ]
     },
     "execution_count": 59,
     "metadata": {},
     "output_type": "execute_result"
    }
   ],
   "source": [
    "submission_df = pd.read_csv('2023-ntust-practice-of-social-media-analytics-hw2/sampleSubmission.csv')\n",
    "submission_df"
   ]
  },
  {
   "cell_type": "code",
   "execution_count": 61,
   "id": "5dd00b5e",
   "metadata": {},
   "outputs": [],
   "source": [
    "submission_ans = pd.DataFrame({ 'Id': submission_df.Id.values, 'Category': category })\n",
    "submission_ans.to_csv(\"submission_ModularityVertexPartition.csv\", index=False)"
   ]
  },
  {
   "cell_type": "code",
   "execution_count": null,
   "id": "f9a6de90",
   "metadata": {},
   "outputs": [],
   "source": []
  }
 ],
 "metadata": {
  "kernelspec": {
   "display_name": "Python 3 (ipykernel)",
   "language": "python",
   "name": "python3"
  },
  "language_info": {
   "codemirror_mode": {
    "name": "ipython",
    "version": 3
   },
   "file_extension": ".py",
   "mimetype": "text/x-python",
   "name": "python",
   "nbconvert_exporter": "python",
   "pygments_lexer": "ipython3",
   "version": "3.11.2"
  }
 },
 "nbformat": 4,
 "nbformat_minor": 5
}
