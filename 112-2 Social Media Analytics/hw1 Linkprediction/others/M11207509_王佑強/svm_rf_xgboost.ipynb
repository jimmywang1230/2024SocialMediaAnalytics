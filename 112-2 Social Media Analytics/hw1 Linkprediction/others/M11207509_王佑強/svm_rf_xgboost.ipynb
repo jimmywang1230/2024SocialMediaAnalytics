{
 "cells": [
  {
   "cell_type": "code",
   "execution_count": 2,
   "id": "31fafe9f",
   "metadata": {},
   "outputs": [],
   "source": [
    "import numpy\n",
    "import pandas\n",
    "import pandas as pd\n",
    "import csv\n",
    "import os"
   ]
  },
  {
   "cell_type": "code",
   "execution_count": 3,
   "id": "f70364db",
   "metadata": {},
   "outputs": [],
   "source": [
    "tr_path = 'C:/Users/Administrator/Desktop/台科/課程/112-2 社群分析/112-2 Social Media Analytics/hw1 Linkprediction/2024-ntust-practice-of-social-media-analytics-hw1/train.csv'  # path to training data\n",
    "train_df = pd.read_csv(tr_path)\n",
    "\n",
    "tt_path = 'C:/Users/Administrator/Desktop/台科/課程/112-2 社群分析/112-2 Social Media Analytics/hw1 Linkprediction/2024-ntust-practice-of-social-media-analytics-hw1/test.csv'   # path to testing data\n",
    "test_df = pd.read_csv(tt_path)"
   ]
  },
  {
   "cell_type": "code",
   "execution_count": 4,
   "id": "a0177733",
   "metadata": {},
   "outputs": [
    {
     "name": "stdout",
     "output_type": "stream",
     "text": [
      "Sat May  4 23:53:29 2024       \n",
      "+---------------------------------------------------------------------------------------+\n",
      "| NVIDIA-SMI 545.92                 Driver Version: 545.92       CUDA Version: 12.3     |\n",
      "|-----------------------------------------+----------------------+----------------------+\n",
      "| GPU  Name                     TCC/WDDM  | Bus-Id        Disp.A | Volatile Uncorr. ECC |\n",
      "| Fan  Temp   Perf          Pwr:Usage/Cap |         Memory-Usage | GPU-Util  Compute M. |\n",
      "|                                         |                      |               MIG M. |\n",
      "|=========================================+======================+======================|\n",
      "|   0  NVIDIA GeForce RTX 3060      WDDM  | 00000000:01:00.0  On |                  N/A |\n",
      "|  0%   44C    P8              18W / 170W |   1675MiB / 12288MiB |     20%      Default |\n",
      "|                                         |                      |                  N/A |\n",
      "+-----------------------------------------+----------------------+----------------------+\n",
      "                                                                                         \n",
      "+---------------------------------------------------------------------------------------+\n",
      "| Processes:                                                                            |\n",
      "|  GPU   GI   CI        PID   Type   Process name                            GPU Memory |\n",
      "|        ID   ID                                                             Usage      |\n",
      "|=======================================================================================|\n",
      "|    0   N/A  N/A      2688    C+G   ...ata\\Local\\LINE\\bin\\current\\LINE.exe    N/A      |\n",
      "|    0   N/A  N/A      4592    C+G   ...GeForce Experience\\NVIDIA Share.exe    N/A      |\n",
      "|    0   N/A  N/A      5596    C+G   ...oogle\\Chrome\\Application\\chrome.exe    N/A      |\n",
      "|    0   N/A  N/A      7920    C+G   C:\\Windows\\explorer.exe                   N/A      |\n",
      "|    0   N/A  N/A      8404    C+G   ...on\\123.0.2420.65\\msedgewebview2.exe    N/A      |\n",
      "|    0   N/A  N/A      9212    C+G   ...tionsPlus\\logioptionsplus_agent.exe    N/A      |\n",
      "|    0   N/A  N/A     10568    C+G   ...nt.CBS_cw5n1h2txyewy\\SearchHost.exe    N/A      |\n",
      "|    0   N/A  N/A     11132    C+G   ...2txyewy\\StartMenuExperienceHost.exe    N/A      |\n",
      "|    0   N/A  N/A     14432    C+G   ...CBS_cw5n1h2txyewy\\TextInputHost.exe    N/A      |\n",
      "|    0   N/A  N/A     15228    C+G   ...GeForce Experience\\NVIDIA Share.exe    N/A      |\n",
      "|    0   N/A  N/A     20096    C+G   ...\\cef\\cef.win7x64\\steamwebhelper.exe    N/A      |\n",
      "|    0   N/A  N/A     20968    C+G   ...re\\VMware Player\\x64\\mksSandbox.exe    N/A      |\n",
      "|    0   N/A  N/A     25152    C+G   ...Programs\\Microsoft VS Code\\Code.exe    N/A      |\n",
      "|    0   N/A  N/A     28732    C+G   ...osoft Office\\root\\Office16\\lync.exe    N/A      |\n",
      "|    0   N/A  N/A     45280    C+G   ...on\\124.0.2478.67\\msedgewebview2.exe    N/A      |\n",
      "|    0   N/A  N/A     46180    C+G   ...les\\Microsoft OneDrive\\OneDrive.exe    N/A      |\n",
      "|    0   N/A  N/A     52436    C+G   ...pIntegrations\\Grammarly.Desktop.exe    N/A      |\n",
      "|    0   N/A  N/A     55796    C+G   ...siveControlPanel\\SystemSettings.exe    N/A      |\n",
      "|    0   N/A  N/A     59936    C+G   ...rograms\\Arduino IDE\\Arduino IDE.exe    N/A      |\n",
      "|    0   N/A  N/A     60476    C+G   ...crosoft\\Edge\\Application\\msedge.exe    N/A      |\n",
      "|    0   N/A  N/A     74136    C+G   ...5n1h2txyewy\\ShellExperienceHost.exe    N/A      |\n",
      "|    0   N/A  N/A    106652    C+G   ...on\\124.0.2478.67\\msedgewebview2.exe    N/A      |\n",
      "|    0   N/A  N/A    108280    C+G   ...5911_x64__8wekyb3d8bbwe\\msteams.exe    N/A      |\n",
      "|    0   N/A  N/A    111092    C+G   ...gin\\LineCall\\1.0.0.714\\LineCall.exe    N/A      |\n",
      "|    0   N/A  N/A    112400    C+G   ...ft Office\\root\\Office16\\WINWORD.EXE    N/A      |\n",
      "+---------------------------------------------------------------------------------------+\n"
     ]
    }
   ],
   "source": [
    "!nvidia-smi"
   ]
  },
  {
   "cell_type": "code",
   "execution_count": 5,
   "id": "0e7d34d0",
   "metadata": {},
   "outputs": [
    {
     "data": {
      "text/html": [
       "<div>\n",
       "<style scoped>\n",
       "    .dataframe tbody tr th:only-of-type {\n",
       "        vertical-align: middle;\n",
       "    }\n",
       "\n",
       "    .dataframe tbody tr th {\n",
       "        vertical-align: top;\n",
       "    }\n",
       "\n",
       "    .dataframe thead th {\n",
       "        text-align: right;\n",
       "    }\n",
       "</style>\n",
       "<table border=\"1\" class=\"dataframe\">\n",
       "  <thead>\n",
       "    <tr style=\"text-align: right;\">\n",
       "      <th></th>\n",
       "      <th>node1</th>\n",
       "      <th>node2</th>\n",
       "      <th>label</th>\n",
       "    </tr>\n",
       "  </thead>\n",
       "  <tbody>\n",
       "    <tr>\n",
       "      <th>0</th>\n",
       "      <td>29237</td>\n",
       "      <td>16563</td>\n",
       "      <td>1</td>\n",
       "    </tr>\n",
       "    <tr>\n",
       "      <th>1</th>\n",
       "      <td>32869</td>\n",
       "      <td>24548</td>\n",
       "      <td>0</td>\n",
       "    </tr>\n",
       "    <tr>\n",
       "      <th>2</th>\n",
       "      <td>48837</td>\n",
       "      <td>17831</td>\n",
       "      <td>1</td>\n",
       "    </tr>\n",
       "    <tr>\n",
       "      <th>3</th>\n",
       "      <td>31387</td>\n",
       "      <td>44509</td>\n",
       "      <td>0</td>\n",
       "    </tr>\n",
       "    <tr>\n",
       "      <th>4</th>\n",
       "      <td>15102</td>\n",
       "      <td>10271</td>\n",
       "      <td>1</td>\n",
       "    </tr>\n",
       "    <tr>\n",
       "      <th>...</th>\n",
       "      <td>...</td>\n",
       "      <td>...</td>\n",
       "      <td>...</td>\n",
       "    </tr>\n",
       "    <tr>\n",
       "      <th>31995</th>\n",
       "      <td>51510</td>\n",
       "      <td>44952</td>\n",
       "      <td>1</td>\n",
       "    </tr>\n",
       "    <tr>\n",
       "      <th>31996</th>\n",
       "      <td>30089</td>\n",
       "      <td>48199</td>\n",
       "      <td>0</td>\n",
       "    </tr>\n",
       "    <tr>\n",
       "      <th>31997</th>\n",
       "      <td>1418</td>\n",
       "      <td>13815</td>\n",
       "      <td>0</td>\n",
       "    </tr>\n",
       "    <tr>\n",
       "      <th>31998</th>\n",
       "      <td>5451</td>\n",
       "      <td>24600</td>\n",
       "      <td>1</td>\n",
       "    </tr>\n",
       "    <tr>\n",
       "      <th>31999</th>\n",
       "      <td>38265</td>\n",
       "      <td>20323</td>\n",
       "      <td>0</td>\n",
       "    </tr>\n",
       "  </tbody>\n",
       "</table>\n",
       "<p>32000 rows × 3 columns</p>\n",
       "</div>"
      ],
      "text/plain": [
       "       node1  node2  label\n",
       "0      29237  16563      1\n",
       "1      32869  24548      0\n",
       "2      48837  17831      1\n",
       "3      31387  44509      0\n",
       "4      15102  10271      1\n",
       "...      ...    ...    ...\n",
       "31995  51510  44952      1\n",
       "31996  30089  48199      0\n",
       "31997   1418  13815      0\n",
       "31998   5451  24600      1\n",
       "31999  38265  20323      0\n",
       "\n",
       "[32000 rows x 3 columns]"
      ]
     },
     "execution_count": 5,
     "metadata": {},
     "output_type": "execute_result"
    }
   ],
   "source": [
    "train_df"
   ]
  },
  {
   "cell_type": "code",
   "execution_count": 6,
   "id": "fcc5fa70",
   "metadata": {},
   "outputs": [
    {
     "data": {
      "text/html": [
       "<div>\n",
       "<style scoped>\n",
       "    .dataframe tbody tr th:only-of-type {\n",
       "        vertical-align: middle;\n",
       "    }\n",
       "\n",
       "    .dataframe tbody tr th {\n",
       "        vertical-align: top;\n",
       "    }\n",
       "\n",
       "    .dataframe thead th {\n",
       "        text-align: right;\n",
       "    }\n",
       "</style>\n",
       "<table border=\"1\" class=\"dataframe\">\n",
       "  <thead>\n",
       "    <tr style=\"text-align: right;\">\n",
       "      <th></th>\n",
       "      <th>idx</th>\n",
       "      <th>node1</th>\n",
       "      <th>node2</th>\n",
       "    </tr>\n",
       "  </thead>\n",
       "  <tbody>\n",
       "    <tr>\n",
       "      <th>0</th>\n",
       "      <td>0</td>\n",
       "      <td>5416</td>\n",
       "      <td>45023</td>\n",
       "    </tr>\n",
       "    <tr>\n",
       "      <th>1</th>\n",
       "      <td>1</td>\n",
       "      <td>6681</td>\n",
       "      <td>40749</td>\n",
       "    </tr>\n",
       "    <tr>\n",
       "      <th>2</th>\n",
       "      <td>2</td>\n",
       "      <td>44162</td>\n",
       "      <td>40953</td>\n",
       "    </tr>\n",
       "    <tr>\n",
       "      <th>3</th>\n",
       "      <td>3</td>\n",
       "      <td>51387</td>\n",
       "      <td>51233</td>\n",
       "    </tr>\n",
       "    <tr>\n",
       "      <th>4</th>\n",
       "      <td>4</td>\n",
       "      <td>6498</td>\n",
       "      <td>24093</td>\n",
       "    </tr>\n",
       "    <tr>\n",
       "      <th>...</th>\n",
       "      <td>...</td>\n",
       "      <td>...</td>\n",
       "      <td>...</td>\n",
       "    </tr>\n",
       "    <tr>\n",
       "      <th>7995</th>\n",
       "      <td>7995</td>\n",
       "      <td>15213</td>\n",
       "      <td>5972</td>\n",
       "    </tr>\n",
       "    <tr>\n",
       "      <th>7996</th>\n",
       "      <td>7996</td>\n",
       "      <td>30870</td>\n",
       "      <td>8448</td>\n",
       "    </tr>\n",
       "    <tr>\n",
       "      <th>7997</th>\n",
       "      <td>7997</td>\n",
       "      <td>5409</td>\n",
       "      <td>49118</td>\n",
       "    </tr>\n",
       "    <tr>\n",
       "      <th>7998</th>\n",
       "      <td>7998</td>\n",
       "      <td>14298</td>\n",
       "      <td>45426</td>\n",
       "    </tr>\n",
       "    <tr>\n",
       "      <th>7999</th>\n",
       "      <td>7999</td>\n",
       "      <td>35752</td>\n",
       "      <td>43939</td>\n",
       "    </tr>\n",
       "  </tbody>\n",
       "</table>\n",
       "<p>8000 rows × 3 columns</p>\n",
       "</div>"
      ],
      "text/plain": [
       "       idx  node1  node2\n",
       "0        0   5416  45023\n",
       "1        1   6681  40749\n",
       "2        2  44162  40953\n",
       "3        3  51387  51233\n",
       "4        4   6498  24093\n",
       "...    ...    ...    ...\n",
       "7995  7995  15213   5972\n",
       "7996  7996  30870   8448\n",
       "7997  7997   5409  49118\n",
       "7998  7998  14298  45426\n",
       "7999  7999  35752  43939\n",
       "\n",
       "[8000 rows x 3 columns]"
      ]
     },
     "execution_count": 6,
     "metadata": {},
     "output_type": "execute_result"
    }
   ],
   "source": [
    "test_df"
   ]
  },
  {
   "cell_type": "code",
   "execution_count": 7,
   "id": "7d0f0c2d",
   "metadata": {},
   "outputs": [
    {
     "data": {
      "text/html": [
       "<div>\n",
       "<style scoped>\n",
       "    .dataframe tbody tr th:only-of-type {\n",
       "        vertical-align: middle;\n",
       "    }\n",
       "\n",
       "    .dataframe tbody tr th {\n",
       "        vertical-align: top;\n",
       "    }\n",
       "\n",
       "    .dataframe thead th {\n",
       "        text-align: right;\n",
       "    }\n",
       "</style>\n",
       "<table border=\"1\" class=\"dataframe\">\n",
       "  <thead>\n",
       "    <tr style=\"text-align: right;\">\n",
       "      <th></th>\n",
       "      <th>node1</th>\n",
       "      <th>node2</th>\n",
       "    </tr>\n",
       "  </thead>\n",
       "  <tbody>\n",
       "    <tr>\n",
       "      <th>0</th>\n",
       "      <td>29237</td>\n",
       "      <td>16563</td>\n",
       "    </tr>\n",
       "    <tr>\n",
       "      <th>1</th>\n",
       "      <td>32869</td>\n",
       "      <td>24548</td>\n",
       "    </tr>\n",
       "    <tr>\n",
       "      <th>2</th>\n",
       "      <td>48837</td>\n",
       "      <td>17831</td>\n",
       "    </tr>\n",
       "    <tr>\n",
       "      <th>3</th>\n",
       "      <td>31387</td>\n",
       "      <td>44509</td>\n",
       "    </tr>\n",
       "    <tr>\n",
       "      <th>4</th>\n",
       "      <td>15102</td>\n",
       "      <td>10271</td>\n",
       "    </tr>\n",
       "    <tr>\n",
       "      <th>...</th>\n",
       "      <td>...</td>\n",
       "      <td>...</td>\n",
       "    </tr>\n",
       "    <tr>\n",
       "      <th>31995</th>\n",
       "      <td>51510</td>\n",
       "      <td>44952</td>\n",
       "    </tr>\n",
       "    <tr>\n",
       "      <th>31996</th>\n",
       "      <td>30089</td>\n",
       "      <td>48199</td>\n",
       "    </tr>\n",
       "    <tr>\n",
       "      <th>31997</th>\n",
       "      <td>1418</td>\n",
       "      <td>13815</td>\n",
       "    </tr>\n",
       "    <tr>\n",
       "      <th>31998</th>\n",
       "      <td>5451</td>\n",
       "      <td>24600</td>\n",
       "    </tr>\n",
       "    <tr>\n",
       "      <th>31999</th>\n",
       "      <td>38265</td>\n",
       "      <td>20323</td>\n",
       "    </tr>\n",
       "  </tbody>\n",
       "</table>\n",
       "<p>32000 rows × 2 columns</p>\n",
       "</div>"
      ],
      "text/plain": [
       "       node1  node2\n",
       "0      29237  16563\n",
       "1      32869  24548\n",
       "2      48837  17831\n",
       "3      31387  44509\n",
       "4      15102  10271\n",
       "...      ...    ...\n",
       "31995  51510  44952\n",
       "31996  30089  48199\n",
       "31997   1418  13815\n",
       "31998   5451  24600\n",
       "31999  38265  20323\n",
       "\n",
       "[32000 rows x 2 columns]"
      ]
     },
     "execution_count": 7,
     "metadata": {},
     "output_type": "execute_result"
    }
   ],
   "source": [
    "x = train_df.drop(['label'], axis = 1)\n",
    "x"
   ]
  },
  {
   "cell_type": "code",
   "execution_count": 8,
   "id": "7a1311b5",
   "metadata": {},
   "outputs": [
    {
     "name": "stdout",
     "output_type": "stream",
     "text": [
      "Note: you may need to restart the kernel to use updated packages.Requirement already satisfied: scikit-learn in c:\\users\\administrator\\.pyenv\\pyenv-win\\versions\\3.11.5\\lib\\site-packages (1.4.2)\n",
      "Requirement already satisfied: scipy in c:\\users\\administrator\\.pyenv\\pyenv-win\\versions\\3.11.5\\lib\\site-packages (1.13.0)\n",
      "Requirement already satisfied: matplotlib in c:\\users\\administrator\\.pyenv\\pyenv-win\\versions\\3.11.5\\lib\\site-packages (3.8.4)\n",
      "Requirement already satisfied: numpy>=1.19.5 in c:\\users\\administrator\\.pyenv\\pyenv-win\\versions\\3.11.5\\lib\\site-packages (from scikit-learn) (1.24.1)\n",
      "Requirement already satisfied: joblib>=1.2.0 in c:\\users\\administrator\\.pyenv\\pyenv-win\\versions\\3.11.5\\lib\\site-packages (from scikit-learn) (1.4.2)\n",
      "Requirement already satisfied: threadpoolctl>=2.0.0 in c:\\users\\administrator\\.pyenv\\pyenv-win\\versions\\3.11.5\\lib\\site-packages (from scikit-learn) (3.5.0)\n",
      "Requirement already satisfied: contourpy>=1.0.1 in c:\\users\\administrator\\.pyenv\\pyenv-win\\versions\\3.11.5\\lib\\site-packages (from matplotlib) (1.2.0)\n",
      "Requirement already satisfied: cycler>=0.10 in c:\\users\\administrator\\.pyenv\\pyenv-win\\versions\\3.11.5\\lib\\site-packages (from matplotlib) (0.12.1)\n",
      "Requirement already satisfied: fonttools>=4.22.0 in c:\\users\\administrator\\.pyenv\\pyenv-win\\versions\\3.11.5\\lib\\site-packages (from matplotlib) (4.44.3)\n",
      "Requirement already satisfied: kiwisolver>=1.3.1 in c:\\users\\administrator\\.pyenv\\pyenv-win\\versions\\3.11.5\\lib\\site-packages (from matplotlib) (1.4.5)\n",
      "Requirement already satisfied: packaging>=20.0 in c:\\users\\administrator\\.pyenv\\pyenv-win\\versions\\3.11.5\\lib\\site-packages (from matplotlib) (23.2)\n",
      "Requirement already satisfied: pillow>=8 in c:\\users\\administrator\\.pyenv\\pyenv-win\\versions\\3.11.5\\lib\\site-packages (from matplotlib) (9.3.0)\n",
      "Requirement already satisfied: pyparsing>=2.3.1 in c:\\users\\administrator\\.pyenv\\pyenv-win\\versions\\3.11.5\\lib\\site-packages (from matplotlib) (3.1.1)\n",
      "Requirement already satisfied: python-dateutil>=2.7 in c:\\users\\administrator\\.pyenv\\pyenv-win\\versions\\3.11.5\\lib\\site-packages (from matplotlib) (2.8.2)\n",
      "Requirement already satisfied: six>=1.5 in c:\\users\\administrator\\.pyenv\\pyenv-win\\versions\\3.11.5\\lib\\site-packages (from python-dateutil>=2.7->matplotlib) (1.16.0)\n",
      "\n"
     ]
    },
    {
     "name": "stderr",
     "output_type": "stream",
     "text": [
      "\n",
      "[notice] A new release of pip is available: 23.3.1 -> 24.0\n",
      "[notice] To update, run: c:\\Users\\Administrator\\.pyenv\\pyenv-win\\versions\\3.11.5\\python.exe -m pip install --upgrade pip\n"
     ]
    }
   ],
   "source": [
    "pip install -U scikit-learn scipy matplotlib"
   ]
  },
  {
   "cell_type": "code",
   "execution_count": 9,
   "id": "d3247df3",
   "metadata": {},
   "outputs": [],
   "source": [
    "#split train dev dataset\n",
    "from sklearn.model_selection import train_test_split\n",
    "y = train_df['label']\n",
    "X_train, X_test, y_train, y_test = train_test_split(x,y,test_size=0.3,random_state = 0)"
   ]
  },
  {
   "cell_type": "code",
   "execution_count": 10,
   "id": "6992ef8f",
   "metadata": {},
   "outputs": [
    {
     "data": {
      "text/html": [
       "<div>\n",
       "<style scoped>\n",
       "    .dataframe tbody tr th:only-of-type {\n",
       "        vertical-align: middle;\n",
       "    }\n",
       "\n",
       "    .dataframe tbody tr th {\n",
       "        vertical-align: top;\n",
       "    }\n",
       "\n",
       "    .dataframe thead th {\n",
       "        text-align: right;\n",
       "    }\n",
       "</style>\n",
       "<table border=\"1\" class=\"dataframe\">\n",
       "  <thead>\n",
       "    <tr style=\"text-align: right;\">\n",
       "      <th></th>\n",
       "      <th>node1</th>\n",
       "      <th>node2</th>\n",
       "    </tr>\n",
       "  </thead>\n",
       "  <tbody>\n",
       "    <tr>\n",
       "      <th>0</th>\n",
       "      <td>5416</td>\n",
       "      <td>45023</td>\n",
       "    </tr>\n",
       "    <tr>\n",
       "      <th>1</th>\n",
       "      <td>6681</td>\n",
       "      <td>40749</td>\n",
       "    </tr>\n",
       "    <tr>\n",
       "      <th>2</th>\n",
       "      <td>44162</td>\n",
       "      <td>40953</td>\n",
       "    </tr>\n",
       "    <tr>\n",
       "      <th>3</th>\n",
       "      <td>51387</td>\n",
       "      <td>51233</td>\n",
       "    </tr>\n",
       "    <tr>\n",
       "      <th>4</th>\n",
       "      <td>6498</td>\n",
       "      <td>24093</td>\n",
       "    </tr>\n",
       "    <tr>\n",
       "      <th>...</th>\n",
       "      <td>...</td>\n",
       "      <td>...</td>\n",
       "    </tr>\n",
       "    <tr>\n",
       "      <th>7995</th>\n",
       "      <td>15213</td>\n",
       "      <td>5972</td>\n",
       "    </tr>\n",
       "    <tr>\n",
       "      <th>7996</th>\n",
       "      <td>30870</td>\n",
       "      <td>8448</td>\n",
       "    </tr>\n",
       "    <tr>\n",
       "      <th>7997</th>\n",
       "      <td>5409</td>\n",
       "      <td>49118</td>\n",
       "    </tr>\n",
       "    <tr>\n",
       "      <th>7998</th>\n",
       "      <td>14298</td>\n",
       "      <td>45426</td>\n",
       "    </tr>\n",
       "    <tr>\n",
       "      <th>7999</th>\n",
       "      <td>35752</td>\n",
       "      <td>43939</td>\n",
       "    </tr>\n",
       "  </tbody>\n",
       "</table>\n",
       "<p>8000 rows × 2 columns</p>\n",
       "</div>"
      ],
      "text/plain": [
       "      node1  node2\n",
       "0      5416  45023\n",
       "1      6681  40749\n",
       "2     44162  40953\n",
       "3     51387  51233\n",
       "4      6498  24093\n",
       "...     ...    ...\n",
       "7995  15213   5972\n",
       "7996  30870   8448\n",
       "7997   5409  49118\n",
       "7998  14298  45426\n",
       "7999  35752  43939\n",
       "\n",
       "[8000 rows x 2 columns]"
      ]
     },
     "execution_count": 10,
     "metadata": {},
     "output_type": "execute_result"
    }
   ],
   "source": [
    "x_test = test_df.drop(['idx'], axis = 1)\n",
    "x_test"
   ]
  },
  {
   "cell_type": "markdown",
   "id": "fcff7883",
   "metadata": {},
   "source": [
    "## SVM"
   ]
  },
  {
   "cell_type": "code",
   "execution_count": 11,
   "id": "01d80d5c",
   "metadata": {},
   "outputs": [],
   "source": [
    "from sklearn.svm import SVC\n",
    "# model = SVC()\n",
    "# model = SVC(C = 1.0, kernel='rbf',gamma = 'auto', class_weight='balanced')\n",
    "model = SVC(class_weight='balanced', C=0.1, gamma='scale', kernel='poly')"
   ]
  },
  {
   "cell_type": "code",
   "execution_count": 12,
   "id": "aeddbc9c",
   "metadata": {},
   "outputs": [],
   "source": [
    "# from sklearn.model_selection import GridSearchCV\n",
    "\n",
    "# # Define parameter grid\n",
    "# param_grid = {\n",
    "#     'C': [0.1, 1, 10, 100],  # Regularization parameter\n",
    "#     'gamma': ['scale', 'auto'],  # Kernel coefficient for 'rbf', 'poly' and 'sigmoid'\n",
    "#     'kernel': ['rbf', 'poly', 'sigmoid']  # Type of kernel\n",
    "# }\n",
    "\n",
    "# # Create a GridSearchCV object\n",
    "# grid = GridSearchCV(SVC(class_weight='balanced'), param_grid, refit=True, verbose=3, cv=5)\n",
    "\n",
    "# # Fit the grid search to the data\n",
    "# grid.fit(X_train, y_train)\n",
    "\n",
    "# # Print the best parameters and best score\n",
    "# print(\"Best parameters found: \", grid.best_params_)\n",
    "# print(\"Best accuracy found: \", grid.best_score_)\n"
   ]
  },
  {
   "cell_type": "code",
   "execution_count": 13,
   "id": "1e67edcf",
   "metadata": {},
   "outputs": [],
   "source": [
    "model_fit = model.fit(X_train,y_train)"
   ]
  },
  {
   "cell_type": "code",
   "execution_count": 14,
   "id": "8f64a740",
   "metadata": {},
   "outputs": [
    {
     "data": {
      "text/plain": [
       "array([0, 0, 0, ..., 0, 0, 0], dtype=int64)"
      ]
     },
     "execution_count": 14,
     "metadata": {},
     "output_type": "execute_result"
    }
   ],
   "source": [
    "predictions = model_fit.predict(X_test)\n",
    "predictions"
   ]
  },
  {
   "cell_type": "code",
   "execution_count": 15,
   "id": "9037da6e",
   "metadata": {},
   "outputs": [
    {
     "name": "stdout",
     "output_type": "stream",
     "text": [
      "[[4795  965]\n",
      " [3173  667]]\n",
      "\n",
      "\n",
      "              precision    recall  f1-score   support\n",
      "\n",
      "           0       0.60      0.83      0.70      5760\n",
      "           1       0.41      0.17      0.24      3840\n",
      "\n",
      "    accuracy                           0.57      9600\n",
      "   macro avg       0.51      0.50      0.47      9600\n",
      "weighted avg       0.52      0.57      0.52      9600\n",
      "\n"
     ]
    }
   ],
   "source": [
    "#載入classification report & confusion matrix\n",
    "from sklearn.metrics import classification_report, confusion_matrix\n",
    "print(confusion_matrix(y_test,predictions))\n",
    "print('\\n')\n",
    "print(classification_report(y_test,predictions))"
   ]
  },
  {
   "cell_type": "code",
   "execution_count": 16,
   "id": "9274dd24",
   "metadata": {},
   "outputs": [],
   "source": [
    "# from sklearn.svm import SVC\n",
    "# model = SVC()"
   ]
  },
  {
   "cell_type": "code",
   "execution_count": 17,
   "id": "0926d75b",
   "metadata": {},
   "outputs": [],
   "source": [
    "# model.fit(train_df.drop(['label'], axis = 1),train_df['label'])"
   ]
  },
  {
   "cell_type": "code",
   "execution_count": 18,
   "id": "0eee8806",
   "metadata": {},
   "outputs": [],
   "source": [
    "predictions = model_fit.predict(x_test)"
   ]
  },
  {
   "cell_type": "code",
   "execution_count": 19,
   "id": "9f3a2646",
   "metadata": {},
   "outputs": [
    {
     "data": {
      "text/plain": [
       "array([1, 0, 0, ..., 1, 1, 0], dtype=int64)"
      ]
     },
     "execution_count": 19,
     "metadata": {},
     "output_type": "execute_result"
    }
   ],
   "source": [
    "predictions"
   ]
  },
  {
   "cell_type": "code",
   "execution_count": 20,
   "id": "d04f8ffb",
   "metadata": {},
   "outputs": [
    {
     "data": {
      "text/plain": [
       "8000"
      ]
     },
     "execution_count": 20,
     "metadata": {},
     "output_type": "execute_result"
    }
   ],
   "source": [
    "len(predictions)"
   ]
  },
  {
   "cell_type": "code",
   "execution_count": 21,
   "id": "e38272d5",
   "metadata": {},
   "outputs": [
    {
     "data": {
      "text/html": [
       "<div>\n",
       "<style scoped>\n",
       "    .dataframe tbody tr th:only-of-type {\n",
       "        vertical-align: middle;\n",
       "    }\n",
       "\n",
       "    .dataframe tbody tr th {\n",
       "        vertical-align: top;\n",
       "    }\n",
       "\n",
       "    .dataframe thead th {\n",
       "        text-align: right;\n",
       "    }\n",
       "</style>\n",
       "<table border=\"1\" class=\"dataframe\">\n",
       "  <thead>\n",
       "    <tr style=\"text-align: right;\">\n",
       "      <th></th>\n",
       "      <th>ans</th>\n",
       "    </tr>\n",
       "  </thead>\n",
       "  <tbody>\n",
       "    <tr>\n",
       "      <th>0</th>\n",
       "      <td>1</td>\n",
       "    </tr>\n",
       "    <tr>\n",
       "      <th>1</th>\n",
       "      <td>0</td>\n",
       "    </tr>\n",
       "    <tr>\n",
       "      <th>2</th>\n",
       "      <td>0</td>\n",
       "    </tr>\n",
       "    <tr>\n",
       "      <th>3</th>\n",
       "      <td>0</td>\n",
       "    </tr>\n",
       "    <tr>\n",
       "      <th>4</th>\n",
       "      <td>0</td>\n",
       "    </tr>\n",
       "    <tr>\n",
       "      <th>...</th>\n",
       "      <td>...</td>\n",
       "    </tr>\n",
       "    <tr>\n",
       "      <th>7995</th>\n",
       "      <td>0</td>\n",
       "    </tr>\n",
       "    <tr>\n",
       "      <th>7996</th>\n",
       "      <td>0</td>\n",
       "    </tr>\n",
       "    <tr>\n",
       "      <th>7997</th>\n",
       "      <td>1</td>\n",
       "    </tr>\n",
       "    <tr>\n",
       "      <th>7998</th>\n",
       "      <td>1</td>\n",
       "    </tr>\n",
       "    <tr>\n",
       "      <th>7999</th>\n",
       "      <td>0</td>\n",
       "    </tr>\n",
       "  </tbody>\n",
       "</table>\n",
       "<p>8000 rows × 1 columns</p>\n",
       "</div>"
      ],
      "text/plain": [
       "      ans\n",
       "0       1\n",
       "1       0\n",
       "2       0\n",
       "3       0\n",
       "4       0\n",
       "...   ...\n",
       "7995    0\n",
       "7996    0\n",
       "7997    1\n",
       "7998    1\n",
       "7999    0\n",
       "\n",
       "[8000 rows x 1 columns]"
      ]
     },
     "execution_count": 21,
     "metadata": {},
     "output_type": "execute_result"
    }
   ],
   "source": [
    "predict_df = pd.DataFrame(predictions, columns= ['ans'])\n",
    "predict_df"
   ]
  },
  {
   "cell_type": "code",
   "execution_count": 22,
   "id": "822bb20d",
   "metadata": {},
   "outputs": [
    {
     "data": {
      "text/html": [
       "<div>\n",
       "<style scoped>\n",
       "    .dataframe tbody tr th:only-of-type {\n",
       "        vertical-align: middle;\n",
       "    }\n",
       "\n",
       "    .dataframe tbody tr th {\n",
       "        vertical-align: top;\n",
       "    }\n",
       "\n",
       "    .dataframe thead th {\n",
       "        text-align: right;\n",
       "    }\n",
       "</style>\n",
       "<table border=\"1\" class=\"dataframe\">\n",
       "  <thead>\n",
       "    <tr style=\"text-align: right;\">\n",
       "      <th></th>\n",
       "      <th>idx</th>\n",
       "      <th>ans</th>\n",
       "    </tr>\n",
       "  </thead>\n",
       "  <tbody>\n",
       "    <tr>\n",
       "      <th>0</th>\n",
       "      <td>0</td>\n",
       "      <td>NaN</td>\n",
       "    </tr>\n",
       "    <tr>\n",
       "      <th>1</th>\n",
       "      <td>1</td>\n",
       "      <td>NaN</td>\n",
       "    </tr>\n",
       "    <tr>\n",
       "      <th>2</th>\n",
       "      <td>2</td>\n",
       "      <td>NaN</td>\n",
       "    </tr>\n",
       "    <tr>\n",
       "      <th>3</th>\n",
       "      <td>3</td>\n",
       "      <td>NaN</td>\n",
       "    </tr>\n",
       "    <tr>\n",
       "      <th>4</th>\n",
       "      <td>4</td>\n",
       "      <td>NaN</td>\n",
       "    </tr>\n",
       "    <tr>\n",
       "      <th>...</th>\n",
       "      <td>...</td>\n",
       "      <td>...</td>\n",
       "    </tr>\n",
       "    <tr>\n",
       "      <th>7995</th>\n",
       "      <td>7995</td>\n",
       "      <td>NaN</td>\n",
       "    </tr>\n",
       "    <tr>\n",
       "      <th>7996</th>\n",
       "      <td>7996</td>\n",
       "      <td>NaN</td>\n",
       "    </tr>\n",
       "    <tr>\n",
       "      <th>7997</th>\n",
       "      <td>7997</td>\n",
       "      <td>NaN</td>\n",
       "    </tr>\n",
       "    <tr>\n",
       "      <th>7998</th>\n",
       "      <td>7998</td>\n",
       "      <td>NaN</td>\n",
       "    </tr>\n",
       "    <tr>\n",
       "      <th>7999</th>\n",
       "      <td>7999</td>\n",
       "      <td>NaN</td>\n",
       "    </tr>\n",
       "  </tbody>\n",
       "</table>\n",
       "<p>8000 rows × 2 columns</p>\n",
       "</div>"
      ],
      "text/plain": [
       "       idx  ans\n",
       "0        0  NaN\n",
       "1        1  NaN\n",
       "2        2  NaN\n",
       "3        3  NaN\n",
       "4        4  NaN\n",
       "...    ...  ...\n",
       "7995  7995  NaN\n",
       "7996  7996  NaN\n",
       "7997  7997  NaN\n",
       "7998  7998  NaN\n",
       "7999  7999  NaN\n",
       "\n",
       "[8000 rows x 2 columns]"
      ]
     },
     "execution_count": 22,
     "metadata": {},
     "output_type": "execute_result"
    }
   ],
   "source": [
    "submission_path = 'C:/Users/Administrator/Desktop/台科/課程/112-2 社群分析/112-2 Social Media Analytics/hw1 Linkprediction/2024-ntust-practice-of-social-media-analytics-hw1/sample_submission.csv'   \n",
    "submission_df = pd.read_csv('C:/Users/Administrator/Desktop/台科/課程/112-2 社群分析/112-2 Social Media Analytics/hw1 Linkprediction/2024-ntust-practice-of-social-media-analytics-hw1/sample_submission.csv')\n",
    "submission_df"
   ]
  },
  {
   "cell_type": "code",
   "execution_count": 23,
   "id": "18374cf6",
   "metadata": {},
   "outputs": [],
   "source": [
    "submission = pd.DataFrame({ 'idx': submission_df.idx.values, 'ans': predict_df.ans.values })\n",
    "submission.to_csv(\"submission_svm.csv\", index=False)"
   ]
  },
  {
   "cell_type": "markdown",
   "id": "cdee1744",
   "metadata": {},
   "source": [
    "#### result:0.57292"
   ]
  },
  {
   "attachments": {
    "image-2.png": {
     "image/png": "[encoded data removed]"
    }
   },
   "cell_type": "markdown",
   "id": "07f9bceb",
   "metadata": {},
   "source": [
    "![image-2.png](attachment:image-2.png)"
   ]
  },
  {
   "cell_type": "markdown",
   "id": "86ef96f2",
   "metadata": {},
   "source": [
    "## random forest"
   ]
  },
  {
   "cell_type": "code",
   "execution_count": 24,
   "id": "fd6d7e24",
   "metadata": {},
   "outputs": [],
   "source": [
    "from sklearn import ensemble, preprocessing, metrics\n",
    "forest = ensemble.RandomForestClassifier(n_estimators = 180)\n",
    "forest_fit = forest.fit(train_df.drop(['label'], axis = 1),train_df['label'])"
   ]
  },
  {
   "cell_type": "code",
   "execution_count": 25,
   "id": "00ff1be4",
   "metadata": {},
   "outputs": [],
   "source": [
    "predictions_forest = forest_fit.predict(x_test)"
   ]
  },
  {
   "cell_type": "code",
   "execution_count": 26,
   "id": "e76cf35d",
   "metadata": {},
   "outputs": [
    {
     "data": {
      "text/plain": [
       "8000"
      ]
     },
     "execution_count": 26,
     "metadata": {},
     "output_type": "execute_result"
    }
   ],
   "source": [
    "len(predictions_forest)"
   ]
  },
  {
   "cell_type": "code",
   "execution_count": 27,
   "id": "cddb6707",
   "metadata": {},
   "outputs": [],
   "source": [
    "predictions_forest = predictions_forest.tolist()"
   ]
  },
  {
   "cell_type": "code",
   "execution_count": 28,
   "id": "433e7973",
   "metadata": {},
   "outputs": [
    {
     "data": {
      "text/html": [
       "<div>\n",
       "<style scoped>\n",
       "    .dataframe tbody tr th:only-of-type {\n",
       "        vertical-align: middle;\n",
       "    }\n",
       "\n",
       "    .dataframe tbody tr th {\n",
       "        vertical-align: top;\n",
       "    }\n",
       "\n",
       "    .dataframe thead th {\n",
       "        text-align: right;\n",
       "    }\n",
       "</style>\n",
       "<table border=\"1\" class=\"dataframe\">\n",
       "  <thead>\n",
       "    <tr style=\"text-align: right;\">\n",
       "      <th></th>\n",
       "      <th>idx</th>\n",
       "      <th>ans</th>\n",
       "    </tr>\n",
       "  </thead>\n",
       "  <tbody>\n",
       "    <tr>\n",
       "      <th>0</th>\n",
       "      <td>0</td>\n",
       "      <td>NaN</td>\n",
       "    </tr>\n",
       "    <tr>\n",
       "      <th>1</th>\n",
       "      <td>1</td>\n",
       "      <td>NaN</td>\n",
       "    </tr>\n",
       "    <tr>\n",
       "      <th>2</th>\n",
       "      <td>2</td>\n",
       "      <td>NaN</td>\n",
       "    </tr>\n",
       "    <tr>\n",
       "      <th>3</th>\n",
       "      <td>3</td>\n",
       "      <td>NaN</td>\n",
       "    </tr>\n",
       "    <tr>\n",
       "      <th>4</th>\n",
       "      <td>4</td>\n",
       "      <td>NaN</td>\n",
       "    </tr>\n",
       "    <tr>\n",
       "      <th>...</th>\n",
       "      <td>...</td>\n",
       "      <td>...</td>\n",
       "    </tr>\n",
       "    <tr>\n",
       "      <th>7995</th>\n",
       "      <td>7995</td>\n",
       "      <td>NaN</td>\n",
       "    </tr>\n",
       "    <tr>\n",
       "      <th>7996</th>\n",
       "      <td>7996</td>\n",
       "      <td>NaN</td>\n",
       "    </tr>\n",
       "    <tr>\n",
       "      <th>7997</th>\n",
       "      <td>7997</td>\n",
       "      <td>NaN</td>\n",
       "    </tr>\n",
       "    <tr>\n",
       "      <th>7998</th>\n",
       "      <td>7998</td>\n",
       "      <td>NaN</td>\n",
       "    </tr>\n",
       "    <tr>\n",
       "      <th>7999</th>\n",
       "      <td>7999</td>\n",
       "      <td>NaN</td>\n",
       "    </tr>\n",
       "  </tbody>\n",
       "</table>\n",
       "<p>8000 rows × 2 columns</p>\n",
       "</div>"
      ],
      "text/plain": [
       "       idx  ans\n",
       "0        0  NaN\n",
       "1        1  NaN\n",
       "2        2  NaN\n",
       "3        3  NaN\n",
       "4        4  NaN\n",
       "...    ...  ...\n",
       "7995  7995  NaN\n",
       "7996  7996  NaN\n",
       "7997  7997  NaN\n",
       "7998  7998  NaN\n",
       "7999  7999  NaN\n",
       "\n",
       "[8000 rows x 2 columns]"
      ]
     },
     "execution_count": 28,
     "metadata": {},
     "output_type": "execute_result"
    }
   ],
   "source": [
    "submission_path = 'C:/Users/Administrator/Desktop/台科/課程/112-2 社群分析/112-2 Social Media Analytics/hw1 Linkprediction/2024-ntust-practice-of-social-media-analytics-hw1/sample_submission.csv'   \n",
    "submission_df = pd.read_csv('C:/Users/Administrator/Desktop/台科/課程/112-2 社群分析/112-2 Social Media Analytics/hw1 Linkprediction/2024-ntust-practice-of-social-media-analytics-hw1/sample_submission.csv')\n",
    "submission_df"
   ]
  },
  {
   "cell_type": "code",
   "execution_count": 29,
   "id": "761fb095",
   "metadata": {},
   "outputs": [],
   "source": [
    "submission_forest = pd.DataFrame({ 'idx': submission_df.idx.values, 'ans': predictions_forest })\n",
    "submission_forest.to_csv(\"submission_forest.csv\", index=False)"
   ]
  },
  {
   "cell_type": "markdown",
   "id": "111f0c84",
   "metadata": {},
   "source": [
    "#### 0.61169"
   ]
  },
  {
   "attachments": {
    "image-2.png": {
     "image/png": "[encoded data removed]"
    }
   },
   "cell_type": "markdown",
   "id": "7b815f87",
   "metadata": {},
   "source": [
    "![image-2.png](attachment:image-2.png)"
   ]
  },
  {
   "cell_type": "markdown",
   "id": "8fe20722",
   "metadata": {},
   "source": [
    "## xgboost"
   ]
  },
  {
   "cell_type": "code",
   "execution_count": 30,
   "id": "28757ee9",
   "metadata": {},
   "outputs": [],
   "source": [
    "import networkx as nx\n",
    "# Create a directed graph from your training data\n",
    "G = nx.from_pandas_edgelist(train_df[train_df['label'] == 1], \"node1\", \"node2\", create_using=nx.DiGraph())\n",
    "\n",
    "\n",
    "def count_successors(G, node):\n",
    "    if G.has_node(node):\n",
    "        return len(list(G.successors(node)))\n",
    "    return 0\n",
    "\n",
    "def count_predecessors(G, node):\n",
    "    if G.has_node(node):\n",
    "        return len(list(G.predecessors(node)))\n",
    "    return 0\n",
    "\n",
    "# Apply the metrics to your dataframe\n",
    "train_df['successor_count'] = train_df['node1'].apply(lambda x: count_successors(G, x))\n",
    "train_df['predecessor_count'] = train_df['node2'].apply(lambda x: count_predecessors(G, x))\n",
    "\n",
    "# Similarly apply the metrics to the test dataframe\n",
    "test_df['successor_count'] = test_df['node1'].apply(lambda x: count_successors(G, x))\n",
    "test_df['predecessor_count'] = test_df['node2'].apply(lambda x: count_predecessors(G, x))\n",
    "\n",
    "y = train_df['label']\n",
    "X_train, X_test, y_train, y_test = train_test_split(x,y,test_size=0.3,random_state = 0)\n",
    "x_test = test_df.drop(['idx'], axis = 1)"
   ]
  },
  {
   "cell_type": "code",
   "execution_count": 31,
   "id": "0d5e5c64",
   "metadata": {},
   "outputs": [],
   "source": [
    "from xgboost import XGBClassifier\n",
    "\n",
    "# 建立 XGBClassifier 模型\n",
    "xgboostModel = XGBClassifier(n_estimators=180, learning_rate= 0.03)\n",
    "# 使用訓練資料訓練模型\n",
    "xgboostModel.fit(train_df.drop(['label'], axis = 1),train_df['label'])\n",
    "# 使用訓練資料預測分類\n",
    "predictions_xgboost = xgboostModel.predict(x_test)"
   ]
  },
  {
   "cell_type": "code",
   "execution_count": 32,
   "id": "0b07c8ee",
   "metadata": {},
   "outputs": [],
   "source": [
    "predictions_xgboost = predictions_xgboost.tolist()"
   ]
  },
  {
   "cell_type": "code",
   "execution_count": 33,
   "id": "064818dd",
   "metadata": {},
   "outputs": [],
   "source": [
    "submission_xgboost = pd.DataFrame({ 'idx': submission_df.idx.values, 'ans': predictions_xgboost })\n",
    "submission_xgboost.to_csv(\"submission_xgboost.csv\", index=False)"
   ]
  },
  {
   "attachments": {
    "image-2.png": {
     "image/png": "[encoded data removed]"
    }
   },
   "cell_type": "markdown",
   "id": "42ec2bb7",
   "metadata": {},
   "source": [
    "![image-2.png](attachment:image-2.png)"
   ]
  }
 ],
 "metadata": {
  "kernelspec": {
   "display_name": "Python 3 (ipykernel)",
   "language": "python",
   "name": "python3"
  },
  "language_info": {
   "codemirror_mode": {
    "name": "ipython",
    "version": 3
   },
   "file_extension": ".py",
   "mimetype": "text/x-python",
   "name": "python",
   "nbconvert_exporter": "python",
   "pygments_lexer": "ipython3",
   "version": "3.11.5"
  }
 },
 "nbformat": 4,
 "nbformat_minor": 5
}
